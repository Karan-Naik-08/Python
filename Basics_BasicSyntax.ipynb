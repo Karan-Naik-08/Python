{
 "cells": [
  {
   "cell_type": "markdown",
   "metadata": {},
   "source": [
    "# What Is Python\n",
    "Python is a high-level, interpreted popular programming language known for its simplicity and readability.\n",
    "### History Of Python\n",
    "Python was created by Guido van Rossum. In February 1991, the first public version of Python, version 0.9.0, was released.\n",
    "The language was named after the British comedy series \"Monty Python's Flying Circus\". It's first useable version was 1.0 that was relased in 1994.\n",
    "### Features Of Python \n",
    "1) Easy to Use - Simple Syntax makes it easy to use and Read.\n",
    "2) Dynamically Typed - We don't need to specify the data types of variables , they're determined automatically.\n",
    "3) Cross Platform - It can be used on any System Windows, Mac, Linux etc.\n",
    "4) Wide Range of Libraries - It comes with very wide range of Libraries that help with Multiple tasks like Testing, Web Development, Machine Learning etc.\n"
   ]
  },
  {
   "cell_type": "markdown",
   "metadata": {},
   "source": [
    "# Python provides us the two ways to run a program:\n",
    "1. Using Interactive interpreter prompt : To open the interactive mode, open the terminal (or command prompt) and type python (python3 in case if you have Python2 and Python3 both installed on your system). It will open the console with (>>>) sign where we can execute the Python statement and check their impact on the console.\n",
    "\n",
    "2. Using a script file : Using the script mode, we can write multiple lines code into a file which can be executed later. For this purpose, we need to open an editor like notepad, create a file named and save it with .py extension, which stands for \"Python\".\n",
    "\n"
   ]
  },
  {
   "cell_type": "markdown",
   "metadata": {},
   "source": [
    "### Writing Our First Python Program"
   ]
  },
  {
   "cell_type": "code",
   "execution_count": 2,
   "metadata": {},
   "outputs": [
    {
     "name": "stdout",
     "output_type": "stream",
     "text": [
      "Hello World\n"
     ]
    }
   ],
   "source": [
    "print('Hello World')"
   ]
  },
  {
   "cell_type": "markdown",
   "metadata": {},
   "source": [
    "# What are comments \n",
    "A comment in programming is a piece of text within the code that is not executed by the computer when the program is run. Comments are meant for human readers to understand the code better. They are used to provide explanations, documentations, or reminders within the code. Comments can describe the purpose of a piece of code, clarify its logic, provide context, or serve as reminders for future changes.\n",
    "\n",
    "### 3 Ways to Use Comments"
   ]
  },
  {
   "cell_type": "markdown",
   "metadata": {},
   "source": [
    "1) Single Line comment"
   ]
  },
  {
   "cell_type": "code",
   "execution_count": 1,
   "metadata": {},
   "outputs": [
    {
     "name": "stdout",
     "output_type": "stream",
     "text": [
      "10\n"
     ]
    }
   ],
   "source": [
    "#This is called Single line comment\n",
    "x = 10\n",
    "print(x)"
   ]
  },
  {
   "cell_type": "markdown",
   "metadata": {},
   "source": [
    "2) In-Line comment"
   ]
  },
  {
   "cell_type": "code",
   "execution_count": 2,
   "metadata": {},
   "outputs": [
    {
     "name": "stdout",
     "output_type": "stream",
     "text": [
      "10\n"
     ]
    }
   ],
   "source": [
    "x = 10 # This is called In-line comment\n",
    "print(x)"
   ]
  },
  {
   "cell_type": "markdown",
   "metadata": {},
   "source": [
    "3) Multi-lined Comment"
   ]
  },
  {
   "cell_type": "code",
   "execution_count": 4,
   "metadata": {},
   "outputs": [
    {
     "name": "stdout",
     "output_type": "stream",
     "text": [
      "10\n"
     ]
    }
   ],
   "source": [
    "x = 10\n",
    "'''This\n",
    "is\n",
    "multilined comment'''\n",
    "print(x)"
   ]
  },
  {
   "cell_type": "markdown",
   "metadata": {},
   "source": [
    "# Indentation\n",
    "It is the space at the begining of code in a line. In other language indentation isn't important it's just for readability like eg HTML, but in python indentation is important or else would lead to error."
   ]
  },
  {
   "cell_type": "markdown",
   "metadata": {},
   "source": [
    "Correct way"
   ]
  },
  {
   "cell_type": "code",
   "execution_count": 5,
   "metadata": {},
   "outputs": [
    {
     "name": "stdout",
     "output_type": "stream",
     "text": [
      "Hello\n"
     ]
    }
   ],
   "source": [
    "x = 10 \n",
    "if x > 5 :\n",
    "    print(\"Hello\")"
   ]
  },
  {
   "cell_type": "markdown",
   "metadata": {},
   "source": [
    "Wrong Way"
   ]
  },
  {
   "cell_type": "code",
   "execution_count": 6,
   "metadata": {},
   "outputs": [
    {
     "ename": "IndentationError",
     "evalue": "expected an indented block after 'if' statement on line 2 (370662864.py, line 3)",
     "output_type": "error",
     "traceback": [
      "\u001b[1;36m  Cell \u001b[1;32mIn[6], line 3\u001b[1;36m\u001b[0m\n\u001b[1;33m    print(\"Hello\")\u001b[0m\n\u001b[1;37m    ^\u001b[0m\n\u001b[1;31mIndentationError\u001b[0m\u001b[1;31m:\u001b[0m expected an indented block after 'if' statement on line 2\n"
     ]
    }
   ],
   "source": [
    "x = 10 \n",
    "if x > 5 :\n",
    "print(\"Hello\") # This will give an error"
   ]
  },
  {
   "cell_type": "markdown",
   "metadata": {},
   "source": [
    "# Variables \n",
    "A variable in programming is like a named container that holds information. This container has a name (like \"age\" or \"name\") that you choose, and it can store different types of data like numbers, words, lists, and more. You can put something in the container, take it out, or change what's inside whenever you need to in your program. It helps keep track of important information and makes it easier to work with data in your code.\n",
    "### Declaring Variables\n",
    "There are multiple ways to declare a variable in python "
   ]
  },
  {
   "cell_type": "code",
   "execution_count": 9,
   "metadata": {},
   "outputs": [
    {
     "name": "stdout",
     "output_type": "stream",
     "text": [
      "X is : 10 a, b, c, are : 1 2 3 Name Is : Karan And the list is : [1, 2, 3]\n"
     ]
    }
   ],
   "source": [
    "# 1) Direct assignment using \"=\"\n",
    "x= 10\n",
    "# 2) Multiple assignment \n",
    "a,b,c = 1,2,3\n",
    "# 3) Using input() function \n",
    "name = input(\"Enter Your Name :\")\n",
    "# Also we can assign list , tuples etc to a variable \n",
    "new_list = [1,2,3]\n",
    "\n",
    "print(\"X is :\",x,\"a, b, c, are :\",a,b,c,\"Name Is :\", name , \"And the list is :\", new_list)"
   ]
  },
  {
   "cell_type": "code",
   "execution_count": null,
   "metadata": {},
   "outputs": [],
   "source": []
  }
 ],
 "metadata": {
  "kernelspec": {
   "display_name": "Python 3",
   "language": "python",
   "name": "python3"
  },
  "language_info": {
   "codemirror_mode": {
    "name": "ipython",
    "version": 3
   },
   "file_extension": ".py",
   "mimetype": "text/x-python",
   "name": "python",
   "nbconvert_exporter": "python",
   "pygments_lexer": "ipython3",
   "version": "3.12.2"
  }
 },
 "nbformat": 4,
 "nbformat_minor": 2
}
