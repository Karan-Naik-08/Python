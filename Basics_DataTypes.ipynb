{
 "cells": [
  {
   "cell_type": "markdown",
   "metadata": {},
   "source": [
    "### Data types\n",
    "In python we don't need to define the data type of variable, it is automatically assigned while creating a variable and assigning a value to it.Variables can store data of different types, and different types can do different things.\n",
    "\n"
   ]
  },
  {
   "cell_type": "markdown",
   "metadata": {},
   "source": [
    "## Build-in data types \n",
    "Text : String\n",
    "\n",
    "Numeric : Integer, Float, Complex\n",
    "\n",
    "Sequence : List, Tuples, Range\n",
    "\n",
    "Mapping : Dictionaries\n",
    "\n",
    "Boolean : Bool\n",
    "\n",
    "None : None\n",
    "\n",
    "Binary : Bytes, Bytearray"
   ]
  },
  {
   "cell_type": "code",
   "execution_count": 3,
   "metadata": {},
   "outputs": [],
   "source": [
    "example1 = \"It's a string\" \n",
    "example2 = 1 # This is integer\n",
    "example3 = 1.1 # This is float\n",
    "example4 = 1j  # This is complex\n",
    "example5 = [\"apple\", \"banana\", \"cherry\"] # This is list\n",
    "example6 = (\"apple\", \"banana\", \"cherry\") # This is tuple\n"
   ]
  },
  {
   "cell_type": "markdown",
   "metadata": {},
   "source": [
    "### Generate Random number"
   ]
  },
  {
   "cell_type": "code",
   "execution_count": 6,
   "metadata": {},
   "outputs": [
    {
     "name": "stdout",
     "output_type": "stream",
     "text": [
      "6\n"
     ]
    }
   ],
   "source": [
    "import random\n",
    "a= random.randrange(1,10)\n",
    "print(a)"
   ]
  },
  {
   "cell_type": "markdown",
   "metadata": {},
   "source": [
    "### Strings"
   ]
  },
  {
   "cell_type": "code",
   "execution_count": 7,
   "metadata": {},
   "outputs": [],
   "source": [
    "str1 = \"hello\"\n",
    "str2 = 'hello'\n",
    "str3 = '''hello hi,\n",
    "this is multilne string'''\n",
    "str4 = \"\"\"this is also a multiline string\"\"\""
   ]
  },
  {
   "cell_type": "markdown",
   "metadata": {},
   "source": [
    "### String slicing"
   ]
  },
  {
   "cell_type": "code",
   "execution_count": 10,
   "metadata": {},
   "outputs": [
    {
     "name": "stdout",
     "output_type": "stream",
     "text": [
      "hi,\n",
      "this is multilne string\n"
     ]
    }
   ],
   "source": [
    "print(str3[6:])"
   ]
  },
  {
   "cell_type": "code",
   "execution_count": 12,
   "metadata": {},
   "outputs": [
    {
     "name": "stdout",
     "output_type": "stream",
     "text": [
      "hel\n"
     ]
    }
   ],
   "source": [
    "print(str1[0:3]) # Here only till second index is printed 3rd is not inlcuded"
   ]
  },
  {
   "cell_type": "code",
   "execution_count": 14,
   "metadata": {},
   "outputs": [
    {
     "name": "stdout",
     "output_type": "stream",
     "text": [
      "ine string\n"
     ]
    }
   ],
   "source": [
    "print(str4[-10:])"
   ]
  },
  {
   "cell_type": "markdown",
   "metadata": {},
   "source": [
    "### String Manipulation"
   ]
  },
  {
   "cell_type": "code",
   "execution_count": 16,
   "metadata": {},
   "outputs": [
    {
     "name": "stdout",
     "output_type": "stream",
     "text": [
      "HELLO\n"
     ]
    }
   ],
   "source": [
    "str_new1 = str1.upper() # Same way there's .lower()\n",
    "print(str_new1)"
   ]
  },
  {
   "cell_type": "code",
   "execution_count": 18,
   "metadata": {},
   "outputs": [
    {
     "name": "stdout",
     "output_type": "stream",
     "text": [
      "  Hello hi   \n"
     ]
    }
   ],
   "source": [
    "str2 = \"  Hello hi   \"\n",
    "print(str2)"
   ]
  },
  {
   "cell_type": "code",
   "execution_count": 20,
   "metadata": {},
   "outputs": [
    {
     "name": "stdout",
     "output_type": "stream",
     "text": [
      "Hello hi\n"
     ]
    }
   ],
   "source": [
    "str2_new = str2.strip() # It removes blank space before and after the string\n",
    "print(str2_new)"
   ]
  },
  {
   "cell_type": "code",
   "execution_count": 24,
   "metadata": {},
   "outputs": [
    {
     "data": {
      "text/plain": [
       "'Jello'"
      ]
     },
     "execution_count": 24,
     "metadata": {},
     "output_type": "execute_result"
    }
   ],
   "source": [
    "str1.replace(\"h\",\"J\")"
   ]
  },
  {
   "cell_type": "markdown",
   "metadata": {},
   "source": [
    "### Format string (f-string)"
   ]
  },
  {
   "cell_type": "code",
   "execution_count": 31,
   "metadata": {},
   "outputs": [
    {
     "name": "stdout",
     "output_type": "stream",
     "text": [
      "My salary is 10000.111\n",
      "My salary is 10000.1\n"
     ]
    }
   ],
   "source": [
    "salary = 10000.111\n",
    "print(f\"My salary is {salary}\")\n",
    "print(f\"My salary is {salary:.1f}\") # Only till specific decimal"
   ]
  },
  {
   "cell_type": "markdown",
   "metadata": {},
   "source": [
    "Escape Character \\"
   ]
  },
  {
   "cell_type": "code",
   "execution_count": 35,
   "metadata": {},
   "outputs": [
    {
     "name": "stdout",
     "output_type": "stream",
     "text": [
      "We are the so-called \"Vikings\" from the north.\n"
     ]
    }
   ],
   "source": [
    "txt = \"We are the so-called \\\"Vikings\\\" from the north.\" # This escapes the next character\n",
    "print(txt)"
   ]
  },
  {
   "cell_type": "markdown",
   "metadata": {},
   "source": [
    "More Escape character\n",
    "\n",
    " \\'\tSingle Quote\n",
    "\n",
    "\\\\\tBackslash\t\n",
    "\n",
    "\\n\tNew Line\t\n",
    "\n",
    "\\r\tCarriage Return\t\n",
    "\n",
    "\\t\tTab\t\n",
    "\n",
    "\\b\tBackspace\t\n",
    "\n",
    "\\f\tForm Feed\t"
   ]
  }
 ],
 "metadata": {
  "kernelspec": {
   "display_name": "Python 3",
   "language": "python",
   "name": "python3"
  },
  "language_info": {
   "codemirror_mode": {
    "name": "ipython",
    "version": 3
   },
   "file_extension": ".py",
   "mimetype": "text/x-python",
   "name": "python",
   "nbconvert_exporter": "python",
   "pygments_lexer": "ipython3",
   "version": "3.12.2"
  }
 },
 "nbformat": 4,
 "nbformat_minor": 2
}
