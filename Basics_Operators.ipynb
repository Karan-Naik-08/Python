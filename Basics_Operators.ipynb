{
 "cells": [
  {
   "cell_type": "markdown",
   "metadata": {},
   "source": [
    "# Operators \n",
    "Operators are used to perform operations on variables and values.\n",
    "Python divides the operators in the following groups:\n",
    "\n",
    "Arithmetic operators,\n",
    "Assignment operators,\n",
    "Comparison operators,\n",
    "Logical operators,\n",
    "Identity operators,\n",
    "Membership operators,\n",
    "Bitwise operators.\n"
   ]
  },
  {
   "cell_type": "markdown",
   "metadata": {},
   "source": [
    "### Arithmetic operators"
   ]
  },
  {
   "cell_type": "code",
   "execution_count": 13,
   "metadata": {},
   "outputs": [
    {
     "name": "stdout",
     "output_type": "stream",
     "text": [
      "31\n",
      "-9\n",
      "220\n",
      "0.55\n",
      "9\n",
      "672749994932560009201\n",
      "1\n"
     ]
    }
   ],
   "source": [
    "a = 11\n",
    "b = 20\n",
    "\n",
    "# Addition\n",
    "print(a + b)\n",
    "\n",
    "# Subtraction\n",
    "print(a - b)\n",
    "\n",
    "# Multiplication\n",
    "print (a * b)\n",
    "\n",
    "# Division\n",
    "print(a / b)\n",
    "\n",
    "# Modulus \n",
    "print(b % a)\n",
    "\n",
    "# Exponentiation\n",
    "print(a ** b)\n",
    "\n",
    "# Floor division (rounds-off the result to closest whole no)\n",
    "print(b // a)"
   ]
  },
  {
   "cell_type": "markdown",
   "metadata": {},
   "source": [
    "### Assignment Operators"
   ]
  },
  {
   "cell_type": "code",
   "execution_count": 14,
   "metadata": {},
   "outputs": [],
   "source": [
    "x = 1\n",
    "x += 2 # x = x + 2\n",
    "x -= 2 # x = x - 2\n",
    "x *= 2 # x = x * 2\n",
    "x /= 1 # x = x / 1\n",
    "x %= 2 # x = x % 2\n",
    "x **= 2 # x = x ** 2\n",
    "x //= 2# x = x // 2"
   ]
  },
  {
   "cell_type": "markdown",
   "metadata": {},
   "source": [
    "### Comparison operator"
   ]
  },
  {
   "cell_type": "code",
   "execution_count": 15,
   "metadata": {},
   "outputs": [
    {
     "data": {
      "text/plain": [
       "True"
      ]
     },
     "execution_count": 15,
     "metadata": {},
     "output_type": "execute_result"
    }
   ],
   "source": [
    "x = 10\n",
    "y =  20 \n",
    "\n",
    "x == y # Equality operator\n",
    "x != y # Not equality\n",
    "x > y # Greater than\n",
    "x < y # Less than\n",
    "x >= y # Greater than equal to\n",
    "x <= y # Less than equalto"
   ]
  },
  {
   "cell_type": "markdown",
   "metadata": {},
   "source": [
    "### Logical operators"
   ]
  },
  {
   "cell_type": "code",
   "execution_count": 16,
   "metadata": {},
   "outputs": [
    {
     "data": {
      "text/plain": [
       "True"
      ]
     },
     "execution_count": 16,
     "metadata": {},
     "output_type": "execute_result"
    }
   ],
   "source": [
    "z=20\n",
    "x > y and x > z\n",
    "x > y or x > z \n",
    "not(x>y) # Negation"
   ]
  },
  {
   "cell_type": "markdown",
   "metadata": {},
   "source": [
    "### Identity operators"
   ]
  },
  {
   "cell_type": "code",
   "execution_count": 17,
   "metadata": {},
   "outputs": [
    {
     "data": {
      "text/plain": [
       "True"
      ]
     },
     "execution_count": 17,
     "metadata": {},
     "output_type": "execute_result"
    }
   ],
   "source": [
    "x is y\n",
    "x is not y"
   ]
  },
  {
   "cell_type": "code",
   "execution_count": 19,
   "metadata": {},
   "outputs": [
    {
     "data": {
      "text/plain": [
       "False"
      ]
     },
     "execution_count": 19,
     "metadata": {},
     "output_type": "execute_result"
    }
   ],
   "source": [
    "q = [10,20]\n",
    "x in q\n",
    "x not in q"
   ]
  },
  {
   "cell_type": "markdown",
   "metadata": {},
   "source": [
    "### Bitwise operators"
   ]
  },
  {
   "cell_type": "code",
   "execution_count": 20,
   "metadata": {},
   "outputs": [
    {
     "data": {
      "text/plain": [
       "-1"
      ]
     },
     "execution_count": 20,
     "metadata": {},
     "output_type": "execute_result"
    }
   ],
   "source": [
    "x & y\n",
    "x | y\n",
    "x ^ y \n",
    "~(x & y)"
   ]
  },
  {
   "cell_type": "markdown",
   "metadata": {},
   "source": [
    "## Operators priorities"
   ]
  },
  {
   "cell_type": "code",
   "execution_count": 21,
   "metadata": {},
   "outputs": [
    {
     "name": "stdout",
     "output_type": "stream",
     "text": [
      "651\n"
     ]
    }
   ],
   "source": [
    "print ((a + b) * ( a + x)) # Here first addtion will take place then multiplication coz first brackets are calculated"
   ]
  },
  {
   "cell_type": "code",
   "execution_count": 22,
   "metadata": {},
   "outputs": [
    {
     "name": "stdout",
     "output_type": "stream",
     "text": [
      "211\n"
     ]
    }
   ],
   "source": [
    "print ( a + b * x) # Here first multi will take place then addition coz multi has higher precedence"
   ]
  },
  {
   "cell_type": "markdown",
   "metadata": {},
   "source": [
    "### Importance"
   ]
  },
  {
   "cell_type": "markdown",
   "metadata": {},
   "source": [
    "()\tParentheses\t\n",
    "\n",
    "**\tExponentiation\t\n",
    "\n",
    "+x  -x  ~x\tUnary plus, unary minus, and bitwise NOT\t\n",
    "\n",
    "*  /  //  %\tMultiplication, division, floor division, and modulus\t\n",
    "\n",
    "+  -\tAddition and subtraction\t\n",
    "\n",
    "<<  >>\tBitwise left and right shifts\t\n",
    "\n",
    "&\tBitwise AND\t\n",
    "\n",
    "^\tBitwise XOR\t\n",
    "\n",
    "|\tBitwise OR\t\n",
    "\n",
    "==  !=  >  >=  <  <=  is  is not  in  not in \tComparisons, identity, and membership operators\t\n",
    "not\tLogical NOT\t\n",
    "\n",
    "and\tAND\t\n",
    "\n",
    "or\tOR"
   ]
  },
  {
   "cell_type": "code",
   "execution_count": null,
   "metadata": {},
   "outputs": [],
   "source": []
  }
 ],
 "metadata": {
  "kernelspec": {
   "display_name": "Python 3",
   "language": "python",
   "name": "python3"
  },
  "language_info": {
   "codemirror_mode": {
    "name": "ipython",
    "version": 3
   },
   "file_extension": ".py",
   "mimetype": "text/x-python",
   "name": "python",
   "nbconvert_exporter": "python",
   "pygments_lexer": "ipython3",
   "version": "3.12.2"
  }
 },
 "nbformat": 4,
 "nbformat_minor": 2
}
